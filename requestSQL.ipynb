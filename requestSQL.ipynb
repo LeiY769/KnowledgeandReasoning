{
 "cells": [
  {
   "cell_type": "code",
   "execution_count": 10,
   "metadata": {},
   "outputs": [
    {
     "name": "stdout",
     "output_type": "stream",
     "text": [
      "[(3920, 'Maria', 'Thayer'), (3923, 'Ann', 'Cusack'), (3918, 'Jonah', 'Hill'), (1462, 'Columbus', 'Short'), (3921, 'Lewis', 'Black'), (3926, 'Anthony', 'Heald'), (1388, 'Justin', 'Long'), (3925, 'Hannah', 'Marks'), (3924, 'Robin', 'Taylor'), (470, 'Blake', 'Lively'), (3922, 'Mark', 'Derwin'), (3919, 'Adam', 'Herschman')]\n"
     ]
    }
   ],
   "source": [
    "import psycopg2\n",
    "from psycopg2 import sql\n",
    "import csv\n",
    "\n",
    "connect = psycopg2.connect(host=\"localhost\",dbname = \"postgres\", user = \"postgres\", password = \"210901\", port = 5432)\n",
    "\n",
    "cur = connect.cursor()\n",
    "\n",
    "connect.commit()\n",
    "\n",
    "#Select all persons that work for a show\n",
    "cur.execute(\"\"\" \n",
    "SELECT * FROM person WHERE person_id IN (SELECT person_id FROM acted_in WHERE show_id IN (SELECT show_id FROM show WHERE title = 'Accepted'))\n",
    "\n",
    "\"\"\")\n",
    "print(cur.fetchall())\n",
    "\n",
    "\n",
    "cur.close()\n",
    "connect.close()"
   ]
  },
  {
   "cell_type": "code",
   "execution_count": null,
   "metadata": {},
   "outputs": [],
   "source": [
    "connect = psycopg2.connect(host=\"localhost\",dbname = \"postgres\", user = \"postgres\", password = \"210901\", port = 5432)\n",
    "\n",
    "cur = connect.cursor()\n",
    "\n",
    "connect.commit()\n",
    "\n",
    "#Getting the average of the time of all film\n",
    "cur.execute(\"\"\" \n",
    "SELECT AVG(duration) FROM show where type_show = 'TV Show'  \n",
    "    \"\"\")\n",
    "\n",
    "print(cur.fetchall())\n",
    "\n",
    "#Getting the average of the time of all show\n",
    "cur.execute(\"\"\" \n",
    "SELECT AVG(duration) FROM show where type_show = 'Movie'            \n",
    "    \"\"\")\n",
    "\n",
    "print(cur.fetchall())\n",
    "\n",
    "\n",
    "cur.close()\n",
    "connect.close()"
   ]
  },
  {
   "cell_type": "code",
   "execution_count": 11,
   "metadata": {},
   "outputs": [
    {
     "name": "stdout",
     "output_type": "stream",
     "text": [
      "[('The Guns of Navarone',), ('The Kissing Booth 3',), ('Back to Q82',), ('Mosquita y Mari',), ('Amy Tan: Unintended Memoir',), ('Oxygen',), ('Swiped',), ('Oloibiri',), ('Time Trap',), ('Only Mine',), ('No Escape Room',), ('My Teacher, My Obsession',), ('To All The Boys: Always And Forever',), ('Accomplice',), ('Penguin Bloom',), ('Sightless',), ('Radium Girls',), ('What Would Sophia Loren Do?',), ('The Creative Brain',), ('The History of Future Folk',), ('The Professor and the Madman',), ('Larry the Cable Guy: Remain Seated',), ('Killer Cove',), ('Hidden in Plain Sight',), ('Shattered Memories',), ('BLACKPINK: Light Up the Sky',), ('Walk Away from Love',), ('Carlos Almaraz: Playing with Fire',), ('We Have Always Lived in the Castle',), ('Stars in the Sky: A Hunting Story',), ('Work It',), ('The Kissing Booth 2',), ('Fatal Affair',), ('Mucho Mucho Amor: The Legend of Walter Mercado',), ('High Strung Free Dance',), ('I Will Follow',), ('Unbreakable Kimmy Schmidt: Kimmy vs. the Reverend',), (\"Mike Birbiglia: My Girlfriend's Boyfriend\",), ('Dangerous Lies',), ('Brothers',), ('Dostana',), ('Pretty Little Stalker',), ('Ordinary World',), ('To All the Boys: P.S. I Still Love You',), ('Gardeners of Eden',), (\"Tom Papa: You're Doing Great!\",), ('WHAT DID JACK DO?',), ('Deadcon',), ('Betty White: First Lady of Television',), ('The Knight Before Christmas',), ('SunGanges',), ('Minimalism: A Documentary About the Important Things',), ('Home Is Where the Killer Is',), ('Steal a Pencil for Me',), ('Sextuplets',), ('Secret Obsession',), ('Frankenstein’s Monster’s Monster, Frankenstein',), ('Miranda Sings Live…Your Welcome',), ('Rim of the World',), ('The Last Summer',), ('The Perfect Date',), ('Unicorn Store',), ('Mercy Black',), ('The Burial of Kojo',), ('Late Life: The Chien-Ming Wang Story',), ('Paranormal Investigation',), ('IO',), ('Tom Papa Live in New York City',), ('Helios',), ('Peace Haven',), ('To All the Boys I’ve Loved Before',), ('The Legacy of a Whitetail Deer Hunter',), ('King of Peking',), ('Steve Martin and Martin Short: An Evening You Will Forget for the Rest of Your Life',), ('Tig Notaro Happy To Be Here',), ('The Kissing Booth',), ('Candy Jar',), ('The Week Of',), ('Come Sunday',), ('Ram Dass, Going Home',), ('Gad Elmaleh: American Dream',), ('Seeing Allred',), ('When We First Met',), (\"Jerry Seinfeld: I'm Telling You for the Last Time\",), ('Harith Iskander: I Told You So',), ('Milada',), ('The Polka King',), ('Mustang Island',), (\"Barbra: The Music ... The Mem'ries ... The Magic!\",), ('Joan Didion: The Center Will Not Hold',), ('Our Souls at Night',), ('Jerry Before Seinfeld',), ('#realityhigh',), ('The Last Shaman',), ('Ryan Hamilton: Happy Face',), ('The Outcasts',), ('Naked',), ('The Saint',), ('Sandy Wexler',), ('The C Word',), ('Deidra & Laney Rob a Train',), ('Trevor Noah: Afraid of the Dark',), ('Jim Gaffigan: Cinco',), ('Coin Heist',), ('Gabriel lglesias: I’m Sorry For What I Said When I Was Hungry',), ('Spectral',), ('One in a Billion',), ('For the Love of Spock',), ('True Memoirs of an International Assassin',), ('I Am the Pretty Thing That Lives in the House',), ('Sample This',), ('Jeff Foxworthy and Larry the Cable Guy: We’ve Been Thinking...',), ('Jim Gaffigan: Beyond the Pale',), ('Jim Gaffigan: Mr. Universe',), ('Jim Gaffigan: Obsessed',), ('The Ridiculous 6',), ('A Very Murray Christmas',), ('Anjelah Johnson: Not Fancy',), ('Keith Richards: Under the Influence',), ('Tig',), ('The Other One: The Long Strange Trip of Bob Weir',), ('A Stoning in Fulham County',), ('Hard Lessons',), ('In Defense of a Married Man',), ('Unspeakable Acts',), ('Victim of Beauty',), ('1 Mile to You',), ('A Haunting at Silver Falls: The Return',), ('Always a Bridesmaid',), ('American Experience: The Island Murder',), ('Aram, Aram',), ('ATM',), ('Badland',), ('Beyond All Boundaries',), ('Bokeh',), ('Bombshell: The Hedy Lamarr Story',), ('Butterfield 8',), ('Cool Hand Luke',), ('Deadly Scholars',), (\"Defying the Nazis: The Sharps' War\",), ('Deviant Love',), ('Dismissed',), ('Don Quixote: The Ingenious Gentleman of La Mancha',), ('Dukhtar',), ('Enlighten Us',), ('Expo',), ('Fall Girls',), ('Fanatic',), ('First Impression',), ('Halo: The Fall of Reach',), ('Hank: Five Years from the Brink',), ('Harold and Lillian: A Hollywood Love Story',), ('Heal',), ('Her Only Choice',), ('Hope: One in a Billion',), ('House of Z',), ('I Am Jane Doe',), ('I Am Maris',), ('Internet Famous',), ('Iron Cowboy: The Story of the 50.50.50',), ('Jesus: Countdown to Calvary',), ('Know Your Enemy - Japan',), ('Larceny',), ('Lez Bomb',), ('Lizzie Borden Took an Ax',), ('Mango Dreams',), ('Manhattan Romance',), ('Max Rose',), ('Miss Me This Christmas',), ('Moor',), ('My Daddy is in Heaven',), ('NOVA: Decoding the Weather Machine',), ('On Yoga The Architecture of Peace',), ('Once In A Lifetime Sessions with Moby',), ('Planet Hulk',), ('Playing for Time',), ('Running for Grace',), ('Running Out Of Time',), ('Shuddhi',), ('Staged Killer',), ('The Bachelors',), ('The Battle of Midway',), ('The Cincinnati Kid',), ('The Competition',), ('The Detained',), ('The First Line',), ('The Gospel of John',), ('The Gospel of Luke',), ('The Healer',), ('The Man Who Would Be Polka King',), ('The Mayo Clinic',), ('The Pursuit',), ('The Student',), ('The Tiger Hunter',), ('The Witch Files',), (\"Tinker'\",), ('Tunisian Victory',), ('Twice',), ('Under an Arctic Sky',), ('We Belong Together',), ('What Still Remains',), ('Wish Man',), ('يوم الدين',)]\n",
      "[('Omo Ghetto: the Saga',), ('Paradise Hills',), ('Shikara',), ('Really Love',), ('The Old Ways',), ('La diosa del asfalto',), (\"Quam's Money\",), ('Five Feet Apart',), ('Poms',), ('The Operative',), ('Sanitation Day',), ('Milkwater',), ('American Woman',), ('A Land Imagined',), ('Har Kisse Ke Hisse: Kaamyaab',), ('Si Doel the Movie 2',), ('RattleSnake - The Ahanna Story',), ('Dreamy Eyes',), ('Hampstead',), ('Mary Magdalene',), ('Red Joan',), ('Sword of Trust',), ('The Best of Enemies',), ('Voiceless',), ('Lying and Stealing',), ('Wonder Boy',), ('Kambili: The Whole 30 Yards',), ('Aziza',), ('Fan Girl',), ('Red Snow',), ('Biking Borders',), ('Rogue Warfare: Death of a Nation',), ('Until Midnight',), ('Small Chops',), ('The Girl and the Gun',), ('2 Hearts',), ('Gold Statue',), ('The Wind',), ('Then Came You',), ('The Strange House',), ('Illegal Woman',), ('Deadly Switch',), ('Time to Dance',), ('And Tomorrow the Entire World',), ('Framing John DeLorean',), ('Aliens Stole My Body',), ('Sitting in Limbo',), ('One',), ('Ram Prasad Ki Tehrvi',), ('One Like It',), ('This Lady Called Life',), ('Four Sisters Before the Wedding',), ('Into the Beat',), ('Synchronic',), ('Dark City Beneath the Beat',), ('Only Mine',), ('Uppena',), ('The Stand-In',), (\"Story of Kale: When Someone's in Love\",), (\"The Fisherman's Diary\",), ('What Lies Below',), ('Cross: Rise of the Villains',), ('Madam Chief Minister',), ('The Knight and the Princess',), ('Not a Game',), ('Monster Run',), ('Keeping the Bees',), ('Ni de coña',), ('Any Crybabies Around?',), ('Hospital',), ('Jiu Jitsu',), (\"Who's the Boss\",), ('Skylines',), ('The Present',), ('Just In Time',), ('Generasi 90an: Melankolia',), ('The Block Island Sound',), ('Fate of Alakada',), ('Mariposa',), ('Indoo Ki Jawani',), ('LEGO Marvel Spider-Man: Vexed by Venom',), ('Blue, Painful, Fragile',), ('Classmates Minus',), ('Love',), ('Eeb Allay Ooo!',), ('Monsoon',), ('Mundina Nildana',), ('Layla Majnun',), ('The World We Make',), ('Little Big Women',), ('The Last Paradiso',), ('All My Friends Are Dead',), ('Black Beach',), ('Our Lady of San Juan, Four Centuries of Miracles',), ('Rocks',), ('Fatima',), ('Kilometers and Kilometers',), ('So My Grandma’s a Lesbian!',), ('Friendsgiving',), ('The Shadow of Violence',), ('Cut Throat City',), ('Sightless',), ('Death of Me',), ('Double Dad',), (\"Pinkfong & Baby Shark's Space Adventure\",), ('The Vanished',), ('The Heartbreak Club',), ('Al acecho',), ('100% Halal',), ('Pieces of a Woman',), ('Tony Parker: The Final Shot',), ('Asphalt Burning',), ('Full Out 2: You Got This!',), ('The Creative Brain',), ('Tarung Sarung',), ('Too Handsome to Handle',), ('The Rope Curse 2',), ('Cops and Robbers',), ('Death to 2020',), ('DNA',), ('The Magic School Bus Rides Again In the Zone',), ('AK vs AK',), ('Isa Pa with Feelings',), ('We Can Be Heroes',), ('Bridezilla',), ('Hello, Love, Goodbye',), ('The Midnight Sky',), ('Your Name Engraved Herein',), ('After We Collided',), ('London Hughes: To Catch a D*ck',), ('QLIMAX THE SOURCE',), ('Shaun the Sheep: The Farmer’s Llamas',), ('Ariana grande: excuse me, i love you',), ('Mohamed Hussein',), ('Rhys Nicholson Live at the Athenaeum',), ('Guest House',), (\"Ma Rainey's Black Bottom\",), ('An Unremarkable Christmas',), ('Eggnoid: Love & Time Portal',), ('Sakaling Maging Tayo',), ('Vir Das: Outside In - The Lockdown Special',), ('The Professor and the Madman',), ('A California Christmas',), ('Giving Voice',), ('The Prom',), ('Torbaaz',), ('Funny Boy',), ('The Panti Sisters',), ('Kalel, 15',), ('Rose Island',), ('André & his olive tree',), ('Bobbleheads The Movie',), ('Spirit Riding Free: Ride Along Adventure',), ('Ava',), ('Mighty Express: A Mighty Christmas',), ('Captain Underpants Mega Blissmas',), ('Christmas Crossfire',), ('MANK',), ('You Are My Home',), ('Between Maybes',), ('Just Another Christmas',), ('Ari Eldjárn: Pardon My Icelandic',), ('Fierce',), (\"Angela's Christmas Wish\",), ('Natalie Palamides: Nate - A One Man Show',), ('U-Turn',), ('Finding Agnes',), ('Spookley and the Christmas Kittens',), ('The 2nd',), ('A Go! Go! Cory Carson Christmas',), ('Dance Dreams: Hot Chocolate Nutcracker',), ('Don’t Listen',), ('The Beast',), ('The Call',), ('Larry the Cable Guy: Remain Seated',), ('Mosul',), ('Ghosts of War',), ('Shawn Mendes: Live in Concert',), ('The Christmas Chronicles: Part Two',), ('Andhakaaram',), ('Dragons: Rescue Riders: Huttsgalor Holiday',), ('Hillbilly Elegy',), ('Notes for My Son',), ('Hard Kill',), ('Shawn Mendes: In Wonder',), ('Dolly Parton’s Christmas on the Square',), ('40 Sticks',), ('Alien Xmas',), ('The App That Stole Christmas',), ('The Princess Switch: Switched Again',), ('Ainu Mosir',), ('Kevin Hart: Zero F**ks Given',), ('Killer Cove',), ('Fukrey Boyzzz: Space Mein Fukrapanti',), ('Jingle Jangle: A Christmas Journey',), ('The Life Ahead',), ('Ludo',), ('Memories of a Teenager',), ('What We Wanted',), ('Citation',), (\"Girl's Revenge\",), ('The Endless Trench',), ('A New York Christmas Wedding',), ('Alone/Together',), ('Midnight at the Magnolia',), ('Operation Christmas Drop',), ('Miss India',), ('Felix Lobrecht: Hype',), ('MOTHER',), ('Christmas Break-In',), ('Elf Pets: A Fox Cub’s Christmas Tale',), ('Elf Pets: Santa’s Reindeer Rescue',), ('Wheels of Fortune',), ('Hidden in Plain Sight',), ('His House',), ('Kaali Khuhi',), ('Rogue City',), ('The Day of the Lord',), ('Holidate',), ('Nobody Sleeps in the Woods Tonight',), (\"Sarah Cooper: Everything's Fine\",), ('I Am Woman',), ('Alice Junior',), ('Over the Moon',), ('Cadaver',), (\"Fisherman's Friends\",), ('Yes, God, Yes',), ('Brave Blue World: Racing to Solve Our Water Crisis',), ('Rebecca',), ('The Magic School Bus Rides Again The Frizz Connection',), ('Tremors: Shrieker Island',), ('I Am Vengeance: Retaliation',), ('The Trial of the Chicago 7',), (\"A Babysitter's Guide to Monster Hunting\",), ('Love Like the Falling Rain',), ('A Choo',), ('BLACKPINK: Light Up the Sky',), ('Octonauts & the Great Barrier Reef',), ('Ginny Weds Sunny',), ('The Forty-Year-Old Version',), ('Bigflo & Oli: Hip Hop Frenzy',), ('Hubie Halloween',), (\"American Pie 9: Girls' Rules\",), ('Dolly Parton: Here I Am',), ('StarBeam: Halloween Hero',), ('David Attenborough: A Life on Our Planet',), (\"Best Wishes, Warmest Regards: A Schitt's Creek Farewell\",), ('Òlòtūré',), ('Serious Men',), ('The Binding',), ('Vampires vs. the Bronx',), (\"You've Got This\",), ('All Because of You',), ('Carlos Almaraz: Playing with Fire',), ('The Book of Sun',), ('The Outpost',), ('Baxu and the Giants',), ('The Boys in the Band',), ('Michelle Buteau: Welcome to Buteaupia',), ('Welcome to Sudden Death',), ('Enola Holmes',), ('Kiss the Ground',), ('The Blue Elephant 2',), ('Dolly Kitty Aur Woh Chamakte Sitare',), ('Whipped',), ('GIMS: On the Record',), (\"Horrid Henry's Gross Day Out\",), ('Residue',), ('The Devil All The Time',), ('The Paramedic',), ('Michael McIntyre: Showman',), ('Dad Wanted',), ('Pets United',), ('Bhai: Vyakti Ki Valli - Poorvardha',), ('Bhai: Vyakti Ki Valli - Uttarardh',), ('Kaagar',), ('The Babysitter: Killer Queen',), ('Cargo',), ('Cuties',), ('So Much Love to Give',), ('The Social Dilemma',), ('#Alive',), ('Villain',), (\"I'm Thinking of Ending Things\",), ('Kandasamys: The Wedding',), ('The Lost Okoroshi',), ('Afonso Padilha: Classless',), ('Love, Guaranteed',), (\"Freaks – You're One of Us\",), ('Sky Tour: The Movie',), ('Barbie Princess Adventure',), ('Children of the Sea',), ('The Boss Baby: Get That Baby!',), ('The Match',), ('True: Friendship Day',), ('Maniyarayile Ashokan',), ('The Debt Collector 2',), ('All Together Now',), ('Santana',), ('Unknown Origins',), ('The Bridge Curse',), ('Lingua Franca',), ('Making The Witcher',), (\"Class of '83\",), ('Dark Forces',), ('The Sleepover',), ('Scarecrow',), ('The Crimes That Bind',), ('Drunk Parents',), ('Crazy Awesome Teachers',), ('Fearless',), ('Octonauts & the Caves of Sac Actun',), ('Project Power',), ('An Easy Girl',), ('Gunjan Saxena: The Kargil Girl',), ('Rob Schneider: Asian Momma, Mexican Kids',), ('The Lost Husband',), ('We Summon the Darkness',), ('Berlin, Berlin: Lolle on the Run',), ('The Magic School Bus Rides Again Kids In Space',), ('Work It',), ('Nasha Natasha',), ('Anelka: Misunderstood',), ('Malibu Rescue: The Next Wave',), ('Sam Jay: 3 In The Morning',), ('Almost Love',), ('Rogue Warfare: The Hunt',), ('Super Monsters: The New Class',), ('Latte and the Magic Waterstone',), ('Raat Akeli Hai',), ('Seriously Single',), ('Sugar High',), ('Uma Maheswara Ugra Roopasya',), ('Redemption',), ('Shine Your Eyes',), ('The Hater',), ('Banana Split',), ('Door Ke Darshan',), ('Double World',), ('Animal Crackers',), ('Dragons: Rescue Riders: Secrets of the Songwing',), ('Nimbe',), ('Offering to the Storm',), ('Romance Doll',), ('The Kissing Booth 2',), ('The Larva Island Movie',), ('The Letter Reader',), ('Ip Man 4: The Finale',), (\"Jack Whitehall: I'm Only Joking\",), ('The Millions',), ('Fatal Affair',), ('Cold Feet',), ('The Players',), ('Urzila Carlson: Overqualified Loser',), ('The Old Guard',), ('Mucho Mucho Amor: The Legend of Walter Mercado',), ('A Kid from Coney Island',), ('Only',), ('Penalty',), ('Desperados',), ('Hunter in the Blue Side of Manchester',), ('The Perfect Picture: Ten Years Later',), ('Thiago Ventura: POKAS',), ('#AnneFrank - Parallel Stories',), ('Adú',), ('David Foster: Off the Record',), ('The F**k-It List',), ('Under the Riccione Sun',), (\"George Lopez: We'll Do It For Half\",), ('#FriendButMarried 2',), ('Skin',), ('Ride Like a Girl',), ('Eurovision Song Contest: The Story of Fire Saga',), ('Kasanova',), ('Thackeray (Hindi)',), ('Krishna and His Leela',), ('Bulbbul',), (\"Nobody Knows I'm Here\",), ('Eric Andre: Legalize Everything',), ('Kappela',), ('Elevator Baby',), ('Chaman Bahaar',), ('Feel the Beat',), ('Lost Bullet',), ('One-Way to Tomorrow',), ('Wasp Network',), ('A Whisker Away',), ('Lola Igna',), ('One Take',), ('Riding Faith',), ('Wira',), ('4th Republic',), ('Asura Guru',), ('Milea',), ('Axone',), ('Da 5 Bloods',), ('Jo Koy: In His Elements',), ('365 Days',), ('Forensic',), ('The Night Clerk',), ('Choked: Paisa Bolta Hai',), ('Merry Men 2: Another Mission',), ('The Last Days of American Crime',), ('122',), ('Chippa',), ('Kalek Shanab',), ('High Strung Free Dance',), ('Kenny Sebastian: The Most Interesting Person in the Room',), ('Intuition',), (\"I'm No Longer Here\",), ('Hannah Gadsby: Douglas',), ('Ne Zha',), ('Uncut Gems',), (\"One Day We'll Talk About Today\",), ('Si Doel the Movie 3',), ('Living in Bondage: Breaking Free',), ('The Lovebirds',), ('Mujeres arriba',), ('Ben Platt Live from Radio City Music Hall',), ('Mutiny of the Worker Bees',), ('What Are the Odds?',), ('Light in the Dark',), ('The End',), ('I love you, stupid',), ('Dilan 1991',), ('Malang',), ('The Wrong Missy',), ('Ali & Alia',), ('Unbreakable Kimmy Schmidt: Kimmy vs. the Reverend',), ('Have a Good Trip: Adventures in Psychedelics',), ('John Henry',), ('18 Presents',), ('In Paradox',), ('Becoming',), ('Jerry Seinfeld: 23 Hours To Kill',), ('Arctic Dogs',), ('Luccas Neto em: Acampamento de Férias 2',), ('One Day: Justice Delivered',), (\"Bennett's War\",), ('Death Can Wait',), ('Lady Driver',), ('Roped',), ('The Stand at Paxton County',), ('All Day and a Night',), ('Get In',), ('Go! Go! Cory Carson: The Chrissy',), ('Mrs. Serial Killer',), ('Psycho',), ('The Half Of It',), ('Dangerous Lies',), ('Rich in Love',), ('Love Is War',), ('R.K.Nagar',), ('The Reliant',), ('5Gang',), ('Love Aaj Kal',), ('The Lift Boy',), ('Bheeshma',), ('Kolaiyuthir Kaalam',), ('Yours Sincerely, Kanan Gill',), ('My Stupid Boss 2',), ('This Earth of Mankind',), ('Time to Hunt',), ('The Set Up',), ('The Silence of the Marsh',), ('The Willoughbys',), ('Varane Avashyamund',), ('Earth and Blood',), ('Rising High',), ('Sergio',), ('The Legacy of the Bones',), ('Alelí',), ('Maurício Meirelles: Generating Chaos',), ('Stunt School',), ('Mischief',), ('World Famous Lover',), (\"Chris D'Elia: No Pain\",), ('Code 8',), ('Love Wedding Repeat',), ('School Life',), ('The Main Event',), ('Tigertail',), ('Born Beautiful',), ('Mine 9',), ('Dark Light',), ('Angel Has Fallen',), ('Coffee & Kareem',), ('Violet Evergarden: Eternity and the Auto Memory Doll',), ('David Batra: Elefanten i rummet',), ('SETHUM AAYIRAM PON',), ('A truthful Mother',), ('Paharganj',), (\"Through My Father's Eyes: The Ronda Rousey Story\",), ('Kannum Kannum Kollaiyadithaal',), ('Rogue Warfare',), ('Dragons: Rescue Riders: Hunt for the Golden Dragon',), ('Maska',), ('The Decline',), (\"There's Something in the Water\",), ('True: Wuzzle Wegg Day',), ('Uncorked',), ('Willy and the Guardians of the Lake: Tales from the Lakeside Winter Adventure',), ('Happy Old Year',), ('Bethany Hamilton: Unstoppable',), ('The Occupant',), ('Tom Segura: Ball Hog',), ('Ultras',), ('3022',), ('Altered Carbon: Resleeved',), ('Masameer - The Movie',), ('Bert Kreischer: Hey Big Boy',), ('Bypass Road',), ('Jai Mummy Di',), ('Go Karts',), ('Justine',), ('Lost Girls',), ('Miracle in Cell No. 7',), ('Carmen Sandiego: To Steal or Not to Steal',), ('Marc Maron: End Times Fun',), ('Guilty',), ('I am Jonas',), ('Miles Davis: Birth of the Cool',), ('Spenser Confidential',), ('Twin Murders: the Silence of the White City',), ('Tootsies & The Fake',), ('Lil Peep: Everybody’s Everything',), ('Luccas Neto in: The End of Christmas',), ('Taylor Tomlinson: Quarter-Life Crisis',), ('The Last Bomb of the Second World War',), ('Uncovered',), ('Fat Ballerina - David A. Arnold',), ('Bhangra Paa Le',), ('All The Bright Places',), ('Ala Vaikunthapurramuloo',), ('Pokémon: Mewtwo Strikes Back - Evolution',), ('Pete Davidson: Alive From New York',), ('Full Count',), ('Girl on the Third Floor',), ('System Crasher',), ('The Body',), ('The Last Thing He Wanted',), ('Yeh Ballet',), ('Miss Virginia',), ('A Shaun the Sheep Movie: Farmageddon',), ('Cuddle Weather',), ('Isi & Ossi',), ('Panipat - The Great Betrayal',), ('Dragon Quest Your Story',), ('To All the Boys: P.S. I Still Love You',), ('Love for Sale 2',), ('Polaroid',), ('The Coldest Game',), ('Thottappan',), ('Horse Girl',), ('Jada',), ('Uppity: The Willy T. Ribbs Story',), ('Dragonheart: Vengeance',), ('Faith, Hope & Love',), (\"Tom Papa: You're Doing Great!\",), ('Thambi',), ('The Silent War',), ('Misfit 2',), ('The Car: Road to Revenge',), ('37 Seconds',), ('Miss Americana',), ('Shimla Mirchi',), ('Sillu Karuppatti',), ('Vir Das: For India',), ('A Sun',), ('Airplane Mode',), ('Alex Fernández: The Best Comedian in the World',), ('Fortune Feimster: Sweet & Salty',), ('KD (A) Karuppudurai',), ('Motichoor Chaknachoor',), ('WHAT DID JACK DO?',), ('A Fall from Grace',), ('Deadcon',), ('Jezebel',), ('NiNoKuni',), ('Eye For An Eye',), ('The Brave',), ('Leslie Jones: Time Machine',), ('Women of Mafia 2',), ('Made in China',), ('Bulletproof 2',), ('Live Twice, Love Once',), ('All the Freckles in the World',), ('Ghost Stories',), ('Aaviri',), ('Albert Pinto Ko Gussa Kyun Aata Hai?',), ('Benchwarmers 2: Breaking Balls',), ('How High 2',), ('Hot Gimmick: Girl Meets Boy',), ('The App',), ('Doom: Annihilation',), ('Grand-Daddy Day Care',), ('Jarhead: Law of Return',), ('Sweetheart',), ('Como caído del cielo',), ('John Mulaney & The Sack Lunch Bunch',), (\"Jacob's Ladder\",), ('Back of the Net',), ('The Two Popes',), ('Ronny Chieng: Asian Comedian Destroys America!',), ('6 Underground',), ('The 9th Precinct',), ('Jack Whitehall: Christmas with My Father',), ('The Sky Is Pink',), ('Michelle Wolf: Joke Show',), ('A Family Reunion Christmas',), ('Saaho',), ('Nothing to Lose 2',), ('Marriage Story',), ('A Christmas Prince: The Royal Baby',), ('Tiffany Haddish: Black Mitzvah',), ('A Cinderella Story: Christmas Wish',), ('Baby Dolls',), ('Dead Kids',), ('High End Yaariyan',), ('Tee Shot: Ariya Jutanugarn',), ('Wandering Stars',), ('Guatemala: Heart of the Mayan World',), ('The Zoya Factor',), ('Atlantics',), ('I Lost My Body',), ('Holiday Rush',), ('Evvarikee Cheppoddu',), ('The Body Remembers When the World Broke Open',), ('The Irishman',), ('Mike Birbiglia: The New One',), ('Super Monsters Save Christmas',), ('Pranaam',), ('Brother',), ('Shelby American',), ('The Knight Before Christmas',), ('Bikram: Yogi, Guru, Predator',), ('Dorasaani',), ('Lorena, Light-Footed Woman',), ('Mallesham',), ('Iliza Shlesinger: Unveiled',), ('Earthquake Bird',), ('El sendero de la anaconda',), ('GO! The Unforgettable Party',), ('Guna 369',), ('House Arrest',), ('Klaus',), ('Fadily Camara : La plus drôle de tes copines',), ('Jeff Garlin: Our Man In Chicago',), ('Let It Snow',), ('Paradise Beach',), ('Burning Cane',), ('Luccas Neto in: Summer Camp',), ('Seth Meyers: Lobby Baby',), ('Tune in for Love',), ('Undercover Brother 2',), ('Oththa Seruppu Size 7',), ('A Remarkable Tale',), ('American Son',), ('Drive',), ('Holiday in the Wild',), ('Santa Girl',), ('The King',), ('The Man Without Gravity',), ('Grego Rossello: Disculpe las molestias',), ('Mehandi Circus',), ('Arsenio Hall: Smart & Classy',), ('Dolemite Is My Name',), ('Rattlesnake',), ('Echo in the Canyon',), ('Revenge of the Pontianak',), ('Dancing with the Birds',), ('Jenny Slate: Stage Fright',), ('Eli',), ('Seventeen',), ('The Laundromat',), ('Upstarts',), ('Park Na-rae: Glamour Warning',), ('Martin Matte: La vie, la mort...eh la la..!',), ('Street Flow',), ('El Camino: A Breaking Bad Movie',), ('Fractured',), ('The Bling Lagosians',), ('The Forest of Love',), ('The Influence',), ('After',), ('Home Is Where the Killer Is',), ('Deon Cole: Cole Hearted',), ('Noblemen',), ('Brother in Love',), ('In the Tall Grass',), ('Kids on the Block',), (\"Super Monsters: Vida's First Halloween\",), ('Ready to Mingle',), ('Nikki Glaser: Bangin’',), ('Mo Gilligan: Momentum',), ('TUNA GIRL',), ('In the Shadow of the Moon',), ('Malaal',), ('Inside Man: Most Wanted',), ('Jeff Dunham: Beside Himself',), ('Manmadhudu 2',), ('Between Two Ferns: The Movie',), ('Kabir Singh',), ('Avengement',), ('Los Tigres del Norte at Folsom Prison',), ('Oh! Baby',), ('The Crystal Calls Making the Dark Crystal: Age of Resistance',), (\"Hello, Privilege. It's Me, Chelsea\",), ('Shanghai Fortress',), ('Tall Girl',), ('Bill Burr: Paper Tiger',), ('Article 15',), ('Kill Me If You Dare',), ('Watchman',), ('Uncle Naji in UAE',), ('Mi amigo Alexis',), ('Falling Inn Love',), ('Kardec',), ('Travis Scott: Look Mom I Can Fly',), ('Dave Chappelle: Sticks & Stones',), ('Kaake Da Viyah',), ('Mayday Life',), ('Saavat',), ('Game Over (Tamil Version)',), ('Simon Amstell: Set Free',), ('Sextuplets',), ('The Little Switzerland',), ('Whindersson Nunes: Adult',), ('Uyare',), ('90 ML',), ('Calum von Moger: Unbroken',), (\"Rocko's Modern Life: Static Cling\",), ('Badla',), ('Enter the Anime',), ('Uriyadi 2',), ('The Red Sea Diving Resort',), ('Eerie',), ('Girls With Balls',), ('The Son',), ('¡Ay, mi madre!',), ('Secret Obsession',), ('Frankenstein’s Monster’s Monster, Frankenstein',), ('4L',), ('Kidnapping Stella',), ('Point Blank',), ('Aziz Ansari: RIGHT NOW',), ('Katherine Ryan: Glitter Room',), ('Inhuman Kiss',), ('Romeo Akbar Walter',), ('Super Deluxe',), ('ANIMA',), ('Daniel Sosa: Maleducado',), ('Mike Epps: Only One Mike',), ('Triple Threat',), ('Blood Will Tell',), ('Rakkhosh',), (\"The Wolf's Call\",), ('Beats',), ('Adam Devine: Best Time of Our Lives',), ('Luckee',), ('DJ Cinderella',), ('Murder Mystery',), ('Oprah Presents When They See Us Now',), ('The 3rd Eye 2',), (\"Jo Koy: Comin' In Hot\",), ('Rolling Thunder Revue: A Bob Dylan Story by Martin Scorsese',), ('Elisa & Marcela',), ('I Am Mother',), ('Luka Chuppi',), ('Pachamama',), ('Rock My Heart',), ('The Black Godfather',), ('Alles ist gut',), ('Miranda Sings Live…Your Welcome',), ('Krutant',), ('Oh, Ramona!',), ('We Are Legends',), ('Chopsticks',), ('Mere Pyare Prime Minister',), ('Pegasus',), ('Svaha: The Sixth Finger',), ('Joy',), ('Rim of the World',), ('The Perfection',), ('Wanda Sykes: Not Normal',), ('Maria',), ('Saverio Raimondo: Il Satiro Parlante',), ('See You Yesterday',), ('Good Sam',), ('PATRICK (2019)',), ('Backdraft 2',), ('Malibu Rescue',), ('Shéhérazade',), ('Wine Country',), ('The Wandering Earth',), ('Despite Everything',), ('Extremely Wicked, Shockingly Evil and Vile',), ('The Last Summer',), ('Knock Down The House',), ('Sur Sapata',), ('A Home with A View',), ('Anthony Jeselnik: Fire in the Maternity Ward',), ('Loving is Losing',), ('Money Trap',), ('Music Teacher',), ('Someone Great',), ('The Ruthless',), ('Franco Escamilla: Bienvenido al mundo',), ('Who Would You Take to a Deserted Island?',), ('The Perfect Date',), ('Liss Pereira: Reteniendo líquidos',), ('The Silence',), ('Alien Warfare',), ('Petta',), ('Unicorn Store',), ('Ek Ladki Ko Dekha Toh Aisa Laga',), ('Kevin Hart: Irresponsible',), ('Mercy Black',), ('15 August',), ('Bayonet',), ('The Highwaymen',), ('Nate Bargatze: The Tennessee Kid',), ('The Dirt',), ('Alexis Viera: A Story of Surviving',), ('Amy Schumer Growing',), ('Edoardo Ferrario: Temi Caldi',), ('Triple Frontier',), ('Juanita',), ('Lady J',), ('Walk. Ride. Rodeo.',), ('The Hard Way',), ('The Boy Who Harnessed the Wind',), ('Firebrand',), ('Paddleton',), ('Paris Is Us',), ('Ken Jeong: You Complete Me, Ho',), ('High Flying Bird',), (\"Kevin Hart's Guide to Black History\",), ('ReMastered: The Two Killings of Sam Cooke',), ('Ray Romano: Right Here, Around the Corner',), ('Velvet Buzzsaw',), ('IO',), ('Patria',), ('Sebastian Maniscalco: Stay Hungry',), ('The Last Laugh',), ('706',), ('15-Aug',), ('1BR',), ('A Haunting at Silver Falls: The Return',), ('A.M.I.',), ('All Good Ones Get Away',), ('Always a Bridesmaid',), ('American Hangman',), ('American Warfighter',), ('Assimilate',), ('Backfire',), ('Badland',), ('Beneath the Leaves',), ('Black & Privileged: Volume 1',), ('Chhota Bheem Kungfu Dhamaka',), ('Clarence Clemons: Who Do I Think I Am?',), ('Daddy Issues',), ('Deviant Love',), ('Dolphin Kick',), ('Domino',), ('Elizabeth Harvest',), ('Every Time I Die',), ('Everybody Knows',), ('Expo',), ('Fall Girls',), ('Fanatic',), ('For Love or Money',), ('Freshman Year',), ('Furie',), ('Goldie',), ('Good Kisser',), ('Incoming',), ('Last Ferry',), ('Love Dot Com: The Social Experiment',), ('Mokalik (Mechanic)',), ('Norm of the North: Family Vacation',), ('Norm of the North: Keys to the Kingdom',), ('Norm of the North: King Sized Adventure',), ('Once Upon a Time in London',), ('Our Godfather',), ('Prosecuting Evil: The Extraordinary World of Ben Ferencz',), ('Saving Zoë',), ('SGT. Will Gardner',), ('Soul to Keep',), ('Staged Killer',), ('Straight Up',), ('Strange but True',), ('Submission',), ('Summer Night',), ('The Angry Birds Movie 2',), ('The Brawler',), ('The Bygone',), ('The First Temptation of Christ',), ('The Ghost Who Walks',), ('The Last Whistle',), ('The Pursuit',), ('The Secret Life of Pets 2',), ('Trixie Mattel: Moving Parts',), ('Wish Man',)]\n"
     ]
    }
   ],
   "source": [
    "connect = psycopg2.connect(host=\"localhost\",dbname = \"postgres\", user = \"postgres\", password = \"210901\", port = 5432)\n",
    "\n",
    "cur = connect.cursor()\n",
    "\n",
    "connect.commit()\n",
    "\n",
    "#Search for movies shot in the United States suitable for 14 years.\n",
    "cur.execute(\"\"\"\n",
    "SELECT title \n",
    "FROM show \n",
    "WHERE type_show = 'Movie'  \n",
    "AND show_id IN (SELECT show_id FROM filmed_in WHERE country_id = (SELECT country_id FROM country WHERE country_name = 'United States'))\n",
    "AND show_id IN (SELECT show_id FROM rated WHERE rating_id = 1 );\n",
    "\"\"\")\n",
    "\n",
    "print(cur.fetchall())\n",
    "\n",
    "#Search for a tv show between 2018 and 2021\n",
    "cur.execute(\"\"\"\n",
    "SELECT title\n",
    "FROM show\n",
    "WHERE type_show = 'Movie'  \n",
    "AND release_date > 2018 AND release_date < 2021\n",
    "\"\"\")\n",
    "print(cur.fetchall())\n",
    "\n",
    "cur.close()\n",
    "connect.close()"
   ]
  },
  {
   "cell_type": "code",
   "execution_count": 12,
   "metadata": {},
   "outputs": [
    {
     "name": "stdout",
     "output_type": "stream",
     "text": [
      "[('United States', 2444), ('India', 932), ('United Kingdom', 462), ('Canada', 287), ('France', 285), ('Germany', 165), ('Spain', 152), ('Japan', 113), ('China', 107), ('Egypt', 99), ('Hong Kong', 98), ('Mexico', 97), ('Nigeria', 92), ('Indonesia', 84), ('Australia', 83), ('Turkey', 81), ('Philippines', 79), ('Belgium', 73), ('Argentina', 64), ('Italy', 60), ('South Korea', 56), ('Brazil', 56), ('South Africa', 47), ('Thailand', 43), ('Netherlands', 35), ('United Arab Emirates', 34), ('Poland', 31), ('Ireland', 29), ('Sweden', 25), ('Denmark', 25), ('Chile', 24), ('Lebanon', 22), ('New Zealand', 22), ('Norway', 19), ('Pakistan', 19), ('Singapore', 18), ('Switzerland', 18), ('Malaysia', 18), ('Taiwan', 18), ('Colombia', 17), ('Israel', 16), ('Czech Republic', 15), ('Romania', 13), ('Uruguay', 10), ('Luxembourg', 10), ('Hungary', 10), ('Bulgaria', 10), ('Austria', 9), ('Russia', 9), ('Saudi Arabia', 9), ('Qatar', 9), ('Peru', 8), ('Iceland', 8), ('Serbia', 7), ('Vietnam', 7), ('Kenya', 6), ('Greece', 6), ('Jordan', 6), ('Portugal', 6), ('Cambodia', 6), ('Ghana', 5), ('Morocco', 5), ('Kuwait', 5), ('Bangladesh', 4), ('Finland', 4), ('Iran', 4), ('Algeria', 3), ('Soviet Union', 3), ('Croatia', 3), ('Slovenia', 3), ('Nepal', 2), ('Venezuela', 2), ('Cayman Islands', 2), ('Guatemala', 2), ('Syria', 2), ('West Germany', 2), ('Malta', 2), ('Somalia', 1), ('Albania', 1), ('Ecuador', 1), ('Vatican City', 1), ('Sri Lanka', 1), ('Lithuania', 1), ('Cameroon', 1), ('Afghanistan', 1), ('Latvia', 1), ('Iraq', 1), ('Montenegro', 1), ('Ethiopia', 1), ('Mauritius', 1), ('Georgia', 1), ('Malawi', 1), ('Sudan', 1), ('Namibia', 1), ('Slovakia', 1), ('Dominican Republic', 1), ('Liechtenstein', 1), ('Bahamas', 1), ('Paraguay', 1), ('East Germany', 1), ('Panama', 1), ('Burkina Faso', 1), ('Nicaragua', 1), ('Bermuda', 1), ('Jamaica', 1), ('Senegal', 1), ('Angola', 1), ('Zimbabwe', 1), ('Mozambique', 1)]\n"
     ]
    }
   ],
   "source": [
    "connect = psycopg2.connect(host=\"localhost\",dbname = \"postgres\", user = \"postgres\", password = \"210901\", port = 5432)\n",
    "\n",
    "cur = connect.cursor()\n",
    "\n",
    "connect.commit()\n",
    "\n",
    "\n",
    "cur.execute(\"\"\"\n",
    "SELECT c.country_name, COUNT(f.country_id) AS count\n",
    "FROM filmed_in AS f\n",
    "JOIN country AS c ON f.country_id = c.country_id\n",
    "JOIN show AS s ON f.show_id = s.show_id\n",
    "WHERE s.type_show = 'Movie'\n",
    "GROUP BY f.country_id, c.country_name\n",
    "ORDER BY count DESC;\n",
    "            \"\"\")\n",
    "print(cur.fetchall())\n",
    "cur.close()\n",
    "connect.close()"
   ]
  },
  {
   "cell_type": "code",
   "execution_count": null,
   "metadata": {},
   "outputs": [],
   "source": [
    "connect = psycopg2.connect(host=\"localhost\",dbname = \"postgres\", user = \"postgres\", password = \"210901\", port = 5432)\n",
    "\n",
    "cur = connect.cursor()\n",
    "\n",
    "connect.commit()\n",
    "\n",
    "#Select all persons who has in acted_in but no in directed_by\n",
    "cur.execute(\"\"\"\n",
    "SElect * FROM person WHERE person_id IN (SELECT person_id FROM acted_in) AND person_id NOT IN (SELECT person_id FROM directed_by)\n",
    "            \"\"\")\n",
    "print(cur.fetchall())\n",
    "cur.close()\n",
    "connect.close()"
   ]
  }
 ],
 "metadata": {
  "kernelspec": {
   "display_name": "Python 3",
   "language": "python",
   "name": "python3"
  },
  "language_info": {
   "codemirror_mode": {
    "name": "ipython",
    "version": 3
   },
   "file_extension": ".py",
   "mimetype": "text/x-python",
   "name": "python",
   "nbconvert_exporter": "python",
   "pygments_lexer": "ipython3",
   "version": "3.10.11"
  }
 },
 "nbformat": 4,
 "nbformat_minor": 2
}
