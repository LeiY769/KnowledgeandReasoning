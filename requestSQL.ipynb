{
 "cells": [
  {
   "cell_type": "code",
   "execution_count": null,
   "metadata": {},
   "outputs": [],
   "source": [
    "import psycopg2\n",
    "from psycopg2 import sql\n",
    "import csv\n",
    "\n",
    "connect = psycopg2.connect(host=\"localhost\",dbname = \"postgres\", user = \"postgres\", password = \"210901\", port = 5432)\n",
    "\n",
    "cur = connect.cursor()\n",
    "\n",
    "connect.commit()\n",
    "\n",
    "#Select all persons that work for a show\n",
    "cur.execute(\"\"\" \n",
    "SELECT * FROM person WHERE person_id IN (SELECT person_id FROM acted_in WHERE show_id IN (SELECT show_id FROM show WHERE title = 'Accepted'))\n",
    "\n",
    "\"\"\")\n",
    "print(cur.fetchall())\n",
    "\n",
    "\n",
    "cur.close()\n",
    "connect.close()"
   ]
  },
  {
   "cell_type": "code",
   "execution_count": null,
   "metadata": {},
   "outputs": [],
   "source": [
    "connect = psycopg2.connect(host=\"localhost\",dbname = \"postgres\", user = \"postgres\", password = \"210901\", port = 5432)\n",
    "\n",
    "cur = connect.cursor()\n",
    "\n",
    "connect.commit()\n",
    "\n",
    "#Getting the average of the time of all film\n",
    "cur.execute(\"\"\" \n",
    "SELECT AVG(duration) FROM show where type_show = 'TV Show'  \n",
    "    \"\"\")\n",
    "\n",
    "print(cur.fetchall())\n",
    "\n",
    "#Getting the average of the time of all show\n",
    "cur.execute(\"\"\" \n",
    "SELECT AVG(duration) FROM show where type_show = 'Movie'            \n",
    "    \"\"\")\n",
    "\n",
    "print(cur.fetchall())\n",
    "\n",
    "\n",
    "cur.close()\n",
    "connect.close()"
   ]
  },
  {
   "cell_type": "code",
   "execution_count": null,
   "metadata": {},
   "outputs": [],
   "source": [
    "connect = psycopg2.connect(host=\"localhost\",dbname = \"postgres\", user = \"postgres\", password = \"210901\", port = 5432)\n",
    "\n",
    "cur = connect.cursor()\n",
    "\n",
    "connect.commit()\n",
    "\n",
    "#Search for movies shot in the United States suitable for 14 years.\n",
    "cur.execute(\"\"\"\n",
    "SELECT title \n",
    "FROM show \n",
    "WHERE type_show = 'Movie'  \n",
    "AND show_id IN (SELECT show_id FROM filmed_in WHERE country_id = (SELECT country_id FROM country WHERE country_name = 'United States'))\n",
    "AND show_id IN (SELECT show_id FROM rated WHERE rating_id = 1 );\n",
    "\"\"\")\n",
    "\n",
    "print(cur.fetchall())\n",
    "\n",
    "#Search for a tv show between 2018 and 2021\n",
    "cur.execute(\"\"\"\n",
    "SELECT title\n",
    "FROM show\n",
    "WHERE type_show = 'Movie'  \n",
    "AND release_date > 2018 AND release_date < 2021\n",
    "\"\"\")\n",
    "print(cur.fetchall())\n",
    "\n",
    "cur.close()\n",
    "connect.close()"
   ]
  },
  {
   "cell_type": "code",
   "execution_count": null,
   "metadata": {},
   "outputs": [],
   "source": [
    "connect = psycopg2.connect(host=\"localhost\",dbname = \"postgres\", user = \"postgres\", password = \"210901\", port = 5432)\n",
    "\n",
    "cur = connect.cursor()\n",
    "\n",
    "connect.commit()\n",
    "\n",
    "\n",
    "cur.execute(\"\"\"\n",
    "SELECT c.country_name, COUNT(f.country_id) AS count\n",
    "FROM filmed_in AS f\n",
    "JOIN country AS c ON f.country_id = c.country_id\n",
    "JOIN show AS s ON f.show_id = s.show_id\n",
    "WHERE s.type_show = 'Movie'\n",
    "GROUP BY f.country_id, c.country_name\n",
    "ORDER BY count DESC;\n",
    "            \"\"\")\n",
    "print(cur.fetchall())\n",
    "cur.close()\n",
    "connect.close()"
   ]
  },
  {
   "cell_type": "code",
   "execution_count": null,
   "metadata": {},
   "outputs": [],
   "source": [
    "connect = psycopg2.connect(host=\"localhost\",dbname = \"postgres\", user = \"postgres\", password = \"210901\", port = 5432)\n",
    "\n",
    "cur = connect.cursor()\n",
    "\n",
    "connect.commit()\n",
    "\n",
    "#Select all persons who has in acted_in but no in directed_by\n",
    "cur.execute(\"\"\"\n",
    "SElect * FROM person WHERE person_id IN (SELECT person_id FROM acted_in) AND person_id NOT IN (SELECT person_id FROM directed_by)\n",
    "            \"\"\")\n",
    "print(cur.fetchall())\n",
    "cur.close()\n",
    "connect.close()"
   ]
  }
 ],
 "metadata": {
  "kernelspec": {
   "display_name": "Python 3",
   "language": "python",
   "name": "python3"
  },
  "language_info": {
   "codemirror_mode": {
    "name": "ipython",
    "version": 3
   },
   "file_extension": ".py",
   "mimetype": "text/x-python",
   "name": "python",
   "nbconvert_exporter": "python",
   "pygments_lexer": "ipython3",
   "version": "3.10.11"
  }
 },
 "nbformat": 4,
 "nbformat_minor": 2
}
