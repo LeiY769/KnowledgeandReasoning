{
 "cells": [
  {
   "cell_type": "code",
   "execution_count": 29,
   "metadata": {},
   "outputs": [
    {
     "name": "stdout",
     "output_type": "stream",
     "text": [
      "          month day  year\n",
      "7     September  24  2021\n",
      "8     September  24  2021\n",
      "9     September  24  2021\n",
      "12    September  23  2021\n",
      "24    September  21  2021\n",
      "...         ...  ..   ...\n",
      "8801      March   9  2016\n",
      "8802   November  20  2019\n",
      "8804   November   1  2019\n",
      "8805    January  11  2020\n",
      "8806      March   2  2019\n",
      "\n",
      "[5332 rows x 3 columns]\n"
     ]
    },
    {
     "name": "stderr",
     "output_type": "stream",
     "text": [
      "C:\\Users\\leiya\\AppData\\Local\\Temp\\ipykernel_16620\\1910296626.py:38: SettingWithCopyWarning: \n",
      "A value is trying to be set on a copy of a slice from a DataFrame.\n",
      "Try using .loc[row_indexer,col_indexer] = value instead\n",
      "\n",
      "See the caveats in the documentation: https://pandas.pydata.org/pandas-docs/stable/user_guide/indexing.html#returning-a-view-versus-a-copy\n",
      "  date['month'] = date['date_added'].str.split(' ').str[0]\n",
      "C:\\Users\\leiya\\AppData\\Local\\Temp\\ipykernel_16620\\1910296626.py:39: SettingWithCopyWarning: \n",
      "A value is trying to be set on a copy of a slice from a DataFrame.\n",
      "Try using .loc[row_indexer,col_indexer] = value instead\n",
      "\n",
      "See the caveats in the documentation: https://pandas.pydata.org/pandas-docs/stable/user_guide/indexing.html#returning-a-view-versus-a-copy\n",
      "  date['day'] = date['date_added'].str.split(' ').str[1].str[:-1]\n",
      "C:\\Users\\leiya\\AppData\\Local\\Temp\\ipykernel_16620\\1910296626.py:40: SettingWithCopyWarning: \n",
      "A value is trying to be set on a copy of a slice from a DataFrame.\n",
      "Try using .loc[row_indexer,col_indexer] = value instead\n",
      "\n",
      "See the caveats in the documentation: https://pandas.pydata.org/pandas-docs/stable/user_guide/indexing.html#returning-a-view-versus-a-copy\n",
      "  date['year'] = date['date_added'].str.split(', ').str[1]\n"
     ]
    }
   ],
   "source": [
    "import pandas as pd\n",
    "import pandas as pd\n",
    "file_path = \"netflix_titles.csv\"\n",
    "\n",
    "data = pd.read_csv(file_path,sep=\",\",header=0,encoding=\"utf-8\",index_col=False)\n",
    "data = data.dropna()\n",
    "\n",
    "def create_new_csv_no(name, data):\n",
    "    data.to_csv(name, sep=\",\", encoding=\"utf-8\",index=False)\n",
    "def create_new_csv(name, data):\n",
    "    data.to_csv(name, sep=\",\", encoding=\"utf-8\")\n",
    "\n",
    "\n",
    "movie = data[['show_id','title', 'description','duration','type']]\n",
    "movie= movie[movie['type'] == 'Movie']\n",
    "movie = movie.drop(columns=['type'])\n",
    "movie['duration'] = movie['duration'].str.extract('(\\d+)', expand=False).astype(int)\n",
    "create_new_csv_no(\"movie.csv\", movie)\n",
    "\n",
    "series = data[['show_id','title', 'description','duration','type']]\n",
    "series= series[series['type'] == 'TV Show']\n",
    "series = series.drop(columns=['type'])\n",
    "series['duration'] = series['duration'].str.extract('(\\d+)', expand=False).astype(int)\n",
    "create_new_csv_no(\"series.csv\", series)\n",
    "\n",
    "\n",
    "person1 = pd.DataFrame(data['cast'].str.split(',').explode().str.strip())\n",
    "person1.columns = ['person']\n",
    "person2 = pd.DataFrame(data['director'].str.split(',').explode().str.strip())\n",
    "person2.columns = ['person']\n",
    "\n",
    "person = pd.concat([person1, person2])\n",
    "person.drop_duplicates(subset=\"person\", keep='first', inplace=True)\n",
    "\n",
    "create_new_csv_no(\"person.csv\", person)\n",
    "\n",
    "date = data[['date_added']]\n",
    "date['month'] = date['date_added'].str.split(' ').str[0]\n",
    "date['day'] = date['date_added'].str.split(' ').str[1].str[:-1]\n",
    "date['year'] = date['date_added'].str.split(', ').str[1]\n",
    "date = date.drop(columns=['date_added'])\n",
    "\n",
    "create_new_csv_no(\"date.csv\", date)\n",
    "\n",
    "\n",
    "print(date)\n",
    "\n",
    "\n"
   ]
  }
 ],
 "metadata": {
  "kernelspec": {
   "display_name": "base",
   "language": "python",
   "name": "python3"
  },
  "language_info": {
   "codemirror_mode": {
    "name": "ipython",
    "version": 3
   },
   "file_extension": ".py",
   "mimetype": "text/x-python",
   "name": "python",
   "nbconvert_exporter": "python",
   "pygments_lexer": "ipython3",
   "version": "3.11.5"
  }
 },
 "nbformat": 4,
 "nbformat_minor": 2
}
