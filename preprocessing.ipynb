{
 "cells": [
  {
   "cell_type": "code",
   "execution_count": 78,
   "metadata": {},
   "outputs": [],
   "source": [
    "import pandas as pd\n",
    "\n",
    "file_path = \"netflix_titles.csv\"\n",
    "\n",
    "pd.options.mode.chained_assignment = None\n",
    "\n",
    "data = pd.read_csv(file_path,sep=\",\",header=0,encoding=\"utf-8\",index_col=False)\n",
    "data = data.dropna()\n",
    "\n",
    "def create_new_csv_no(name, data):\n",
    "    data.to_csv(name, sep=\",\", encoding=\"utf-8\",index=False)\n",
    "def create_new_csv(name, data):\n",
    "    data.to_csv(name, sep=\",\", encoding=\"utf-8\")\n",
    "\n",
    "\n",
    "create_new_csv_no(\"data.csv\", data)\n",
    "\n",
    "\n"
   ]
  },
  {
   "cell_type": "code",
   "execution_count": 79,
   "metadata": {},
   "outputs": [],
   "source": [
    "movie = data[['show_id','title', 'description','duration','type']]\n",
    "movie= movie[movie['type'] == 'Movie']\n",
    "movie = movie.drop(columns=['type'])\n",
    "movie['duration'] = movie['duration'].str.extract('(\\d+)', expand=False).astype(int)\n",
    "create_new_csv_no(\"movie.csv\", movie)"
   ]
  },
  {
   "cell_type": "code",
   "execution_count": 80,
   "metadata": {},
   "outputs": [],
   "source": [
    "series = data[['show_id','title', 'description','duration','type']]\n",
    "series= series[series['type'] == 'TV Show']\n",
    "series = series.drop(columns=['type'])\n",
    "series['duration'] = series['duration'].str.extract('(\\d+)', expand=False).astype(int)\n",
    "create_new_csv_no(\"series.csv\", series)\n"
   ]
  },
  {
   "cell_type": "code",
   "execution_count": 81,
   "metadata": {},
   "outputs": [],
   "source": [
    "person1 = pd.DataFrame(data['cast'].str.split(',').explode().str.strip())\n",
    "person1.columns = ['person']\n",
    "person2 = pd.DataFrame(data['director'].str.split(',').explode().str.strip())\n",
    "person2.columns = ['person']\n",
    "\n",
    "person = pd.concat([person1, person2])\n",
    "person.drop_duplicates(subset=\"person\", keep='first', inplace=True)\n",
    "person['no_id'] = person.reset_index().index\n",
    "create_new_csv_no(\"person.csv\", person)"
   ]
  },
  {
   "cell_type": "code",
   "execution_count": 82,
   "metadata": {},
   "outputs": [],
   "source": [
    "date = data[['date_added']]\n",
    "date.drop_duplicates(subset = 'date_added', keep = 'first', inplace = True)\n",
    "date['no_date'] = date.reset_index().index\n",
    "create_new_csv_no(\"date.csv\", date)"
   ]
  },
  {
   "cell_type": "code",
   "execution_count": 83,
   "metadata": {},
   "outputs": [],
   "source": [
    "country = pd.DataFrame(data['country'].str.split(',').explode().str.strip())\n",
    "country.drop_duplicates(subset = 'country', keep = 'first', inplace = True)\n",
    "country['no_country'] = country.reset_index().index\n",
    "create_new_csv_no(\"country.csv\", country)"
   ]
  },
  {
   "cell_type": "code",
   "execution_count": 84,
   "metadata": {},
   "outputs": [],
   "source": [
    "rating = pd.DataFrame(data['rating'].str.split(',').explode().str.strip())\n",
    "rating.drop_duplicates(subset = 'rating', keep = 'first', inplace = True)\n",
    "rating['no_rating'] = rating.reset_index().index\n",
    "create_new_csv_no(\"rating.csv\", rating)"
   ]
  },
  {
   "cell_type": "code",
   "execution_count": 85,
   "metadata": {},
   "outputs": [],
   "source": [
    "genre = pd.DataFrame(data['listed_in'].str.split(',').explode().str.strip())\n",
    "genre.drop_duplicates(subset = 'listed_in', keep = 'first', inplace = True)\n",
    "genre['no_genre'] = genre.reset_index().index\n",
    "\n",
    "create_new_csv_no(\"genre.csv\", genre)"
   ]
  },
  {
   "cell_type": "code",
   "execution_count": 86,
   "metadata": {},
   "outputs": [],
   "source": [
    "#Actor.csv\n",
    "\n",
    "= pd.read_csv(\"person.csv\",sep=\",\",header=0,encoding=\"utf-8\",index_col=False)"
   ]
  }
 ],
 "metadata": {
  "kernelspec": {
   "display_name": "base",
   "language": "python",
   "name": "python3"
  },
  "language_info": {
   "codemirror_mode": {
    "name": "ipython",
    "version": 3
   },
   "file_extension": ".py",
   "mimetype": "text/x-python",
   "name": "python",
   "nbconvert_exporter": "python",
   "pygments_lexer": "ipython3",
   "version": "3.11.5"
  }
 },
 "nbformat": 4,
 "nbformat_minor": 2
}
