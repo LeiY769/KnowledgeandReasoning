{
 "cells": [
  {
   "cell_type": "code",
   "execution_count": 1,
   "metadata": {},
   "outputs": [],
   "source": [
    "import pandas as pd\n",
    "\n",
    "file_path = \"netflix_titles.csv\"\n",
    "\n",
    "pd.options.mode.chained_assignment = None\n",
    "\n",
    "data = pd.read_csv(file_path,sep=\",\",header=0,encoding=\"utf-8\",index_col=False)\n",
    "data = data.dropna()\n",
    "\n",
    "def create_new_csv_no(name, data):\n",
    "    data.to_csv(name, sep=\",\", encoding=\"utf-8\",index=False)\n"
   ]
  },
  {
   "cell_type": "code",
   "execution_count": 2,
   "metadata": {},
   "outputs": [],
   "source": [
    "#Show.csv\n",
    "show = data[['show_id','title', 'description','duration','type','release_year','date_added']]\n",
    "show['type'] = show['type'].replace('TV Show', '1')\n",
    "show['type'] = show['type'].replace('Movie', '0')\n",
    "show['type'] = show['type'].astype(int)\n",
    "show['duration'] = show['duration'].str.extract('(\\d+)', expand=False).astype(int)\n",
    "create_new_csv_no(\"show.csv\", show)"
   ]
  },
  {
   "cell_type": "code",
   "execution_count": 3,
   "metadata": {},
   "outputs": [],
   "source": [
    "#Movie.csv\n",
    "movie = data[['show_id','title', 'description','duration','type','release_year','date_added']]\n",
    "movie= movie[movie['type'] == 'Movie']\n",
    "movie = movie.drop(columns=['type'])\n",
    "movie['duration'] = movie['duration'].str.extract('(\\d+)', expand=False).astype(int)\n",
    "create_new_csv_no(\"movie.csv\", movie)"
   ]
  },
  {
   "cell_type": "code",
   "execution_count": 4,
   "metadata": {},
   "outputs": [],
   "source": [
    "#Series.csv\n",
    "series = data[['show_id','title', 'description','duration','type','release_year','date_added']]\n",
    "series= series[series['type'] == 'TV Show']\n",
    "series = series.drop(columns=['type'])\n",
    "series['duration'] = series['duration'].str.extract('(\\d+)', expand=False).astype(int)\n",
    "create_new_csv_no(\"series.csv\", series)\n"
   ]
  },
  {
   "cell_type": "code",
   "execution_count": 5,
   "metadata": {},
   "outputs": [],
   "source": [
    "#person.csv\n",
    "person1 = pd.DataFrame(data['cast'].str.split(',').explode().str.strip())\n",
    "person1.columns = ['person']\n",
    "person2 = pd.DataFrame(data['director'].str.split(',').explode().str.strip())\n",
    "person2.columns = ['person']\n",
    "\n",
    "person = pd.concat([person1, person2])\n",
    "person.drop_duplicates(subset=\"person\", keep='first', inplace=True)\n",
    "person['no_id'] = person.reset_index().index\n",
    "create_new_csv_no(\"person.csv\", person)"
   ]
  },
  {
   "cell_type": "code",
   "execution_count": 6,
   "metadata": {},
   "outputs": [],
   "source": [
    "#Country.csv\n",
    "country = pd.DataFrame(data['country'].str.split(',').explode().str.strip())\n",
    "country.drop_duplicates(subset = 'country', keep = 'first', inplace = True)\n",
    "country['no_country'] = country.reset_index().index\n",
    "create_new_csv_no(\"country.csv\", country)"
   ]
  },
  {
   "cell_type": "code",
   "execution_count": 7,
   "metadata": {},
   "outputs": [],
   "source": [
    "#Rating.csv\n",
    "rating = pd.DataFrame(data['rating'].str.split(',').explode().str.strip())\n",
    "rating.drop_duplicates(subset = 'rating', keep = 'first', inplace = True)\n",
    "rating['no_rating'] = rating.reset_index().index\n",
    "create_new_csv_no(\"rating.csv\", rating)"
   ]
  },
  {
   "cell_type": "code",
   "execution_count": 8,
   "metadata": {},
   "outputs": [],
   "source": [
    "#Genre.csv\n",
    "genre = pd.DataFrame(data['listed_in'].str.split(',').explode().str.strip())\n",
    "genre.drop_duplicates(subset = 'listed_in', keep = 'first', inplace = True)\n",
    "genre['no_genre'] = genre.reset_index().index\n",
    "\n",
    "create_new_csv_no(\"genre.csv\", genre)"
   ]
  },
  {
   "cell_type": "code",
   "execution_count": 9,
   "metadata": {},
   "outputs": [],
   "source": [
    "#Actor.csv\n",
    "cast = data[['show_id','cast']]\n",
    "# Decompose the column \"cast\" into different names of persons with show_id\n",
    "cast['cast'] = cast['cast'].str.split(', ')\n",
    "cast= cast.explode('cast')\n",
    "\n",
    "person= pd.read_csv(\"person.csv\",sep=\",\",header=0,encoding=\"utf-8\",index_col=False)\n",
    "\n",
    "cast = cast.merge(person, left_on='cast', right_on='person', how='left')\n",
    "cast = cast[['show_id', 'no_id']]\n",
    "cast.columns = ['show_id', 'cast_id']\n",
    "cast['cast_id'] = cast['cast_id'].fillna(0).astype(int)\n",
    "cast = cast.drop_duplicates()\n",
    "create_new_csv_no(\"actor.csv\", cast)\n",
    "\n",
    "\n"
   ]
  },
  {
   "cell_type": "code",
   "execution_count": 10,
   "metadata": {},
   "outputs": [],
   "source": [
    "#Director.csv\n",
    "\n",
    "director = data[['show_id','director']]\n",
    "\n",
    "director['director'] = director['director'].str.split(', ')\n",
    "director= director.explode('director')\n",
    "\n",
    "director = director.merge(person, left_on='director', right_on='person', how='left')\n",
    "director = director[['show_id', 'no_id']]\n",
    "director.columns = ['show_id', 'director_id']\n",
    "director = director.drop_duplicates()\n",
    "create_new_csv_no(\"director.csv\", director)"
   ]
  },
  {
   "cell_type": "code",
   "execution_count": 11,
   "metadata": {},
   "outputs": [],
   "source": [
    "#Produced.csv\n",
    "\n",
    "produced = data[['show_id','country']]\n",
    "produced['country'] = produced['country'].str.split(', ')\n",
    "produced= produced.explode('country')\n",
    "\n",
    "country= pd.read_csv(\"country.csv\",sep=\",\",header=0,encoding=\"utf-8\",index_col=False)\n",
    "\n",
    "produced = produced.merge(country, left_on='country', right_on='country', how='left')\n",
    "produced = produced[['show_id', 'no_country']]\n",
    "produced.columns = ['show_id', 'country_id']\n",
    "create_new_csv_no(\"produced.csv\", produced)"
   ]
  },
  {
   "cell_type": "code",
   "execution_count": 12,
   "metadata": {},
   "outputs": [],
   "source": [
    "#Belong.csv\n",
    "\n",
    "belong = data[['show_id','listed_in']]\n",
    "\n",
    "belong['listed_in'] = belong['listed_in'].str.split(', ')\n",
    "belong= belong.explode('listed_in')\n",
    "\n",
    "genre= pd.read_csv(\"genre.csv\",sep=\",\",header=0,encoding=\"utf-8\",index_col=False)\n",
    "\n",
    "belong = belong.merge(genre, left_on='listed_in', right_on='listed_in', how='left')\n",
    "belong = belong[['show_id', 'no_genre']]\n",
    "belong.columns = ['show_id', 'genre_id']\n",
    "create_new_csv_no(\"belong.csv\", belong)"
   ]
  },
  {
   "cell_type": "code",
   "execution_count": 13,
   "metadata": {},
   "outputs": [],
   "source": [
    "#Person.csv with lastname and firstname\n",
    "\n",
    "person['firstname'] = person['person'].str.split(' ').str[0]\n",
    "person['lastname'] = person['person'].str.split(' ').str[-1]\n",
    "person.drop(columns=['person'], inplace=True)\n",
    "create_new_csv_no(\"person.csv\", person)"
   ]
  },
  {
   "cell_type": "code",
   "execution_count": 14,
   "metadata": {},
   "outputs": [],
   "source": [
    "#Rated.csv \n",
    "\n",
    "find_rated = data[['show_id','rating']]\n",
    "\n",
    "rating = pd.read_csv(\"rating.csv\",sep=\",\",header=0,encoding=\"utf-8\",index_col=False)\n",
    "rated = find_rated.merge(rating, left_on='rating', right_on='rating', how='left')\n",
    "rated = rated[['show_id', 'no_rating']]\n",
    "rated.columns = ['show_id', 'rating_id']\n",
    "create_new_csv_no(\"rated.csv\", rated)\n"
   ]
  }
 ],
 "metadata": {
  "kernelspec": {
   "display_name": "base",
   "language": "python",
   "name": "python3"
  },
  "language_info": {
   "codemirror_mode": {
    "name": "ipython",
    "version": 3
   },
   "file_extension": ".py",
   "mimetype": "text/x-python",
   "name": "python",
   "nbconvert_exporter": "python",
   "pygments_lexer": "ipython3",
   "version": "3.11.5"
  }
 },
 "nbformat": 4,
 "nbformat_minor": 2
}
