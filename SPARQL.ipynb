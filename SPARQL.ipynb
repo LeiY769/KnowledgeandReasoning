{
 "cells": [
  {
   "cell_type": "code",
   "execution_count": null,
   "metadata": {},
   "outputs": [],
   "source": [
    "# Get the show_id of different show that was released in 2019\n",
    "'''\n",
    "SELECT ?s ?p ?o\n",
    "WHERE {\n",
    "  ?s ?p ?o\n",
    "  FILTER(?o = 2019) \n",
    "}\n",
    "LIMIT 100\n",
    "'''"
   ]
  },
  {
   "cell_type": "code",
   "execution_count": null,
   "metadata": {},
   "outputs": [],
   "source": [
    "# Simple query to get the name of a show \n",
    "'''\n",
    "SELECT ?name\n",
    "WHERE \n",
    "{\n",
    "\t<http://data.show-catalog.org/show/s2579> \t<http://ontology.show-catalog.org/show#name> ?name\n",
    "}\n",
    "'''"
   ]
  },
  {
   "cell_type": "code",
   "execution_count": null,
   "metadata": {},
   "outputs": [],
   "source": [
    "#Simple query to show the name of a movie with the duration and with duration > 90 \n",
    "'''\n",
    "PREFIX ntf:  <http://ontology.show-catalog.org/show#>\n",
    "SELECT ?name ?duration\n",
    "WHERE\n",
    "  { ?x ntf:name ?name .\n",
    "  ?x ntf:duration ?duration FILTER (?duration > 90)}\n",
    "LIMIT 100\n",
    "'''"
   ]
  },
  {
   "cell_type": "code",
   "execution_count": null,
   "metadata": {},
   "outputs": [],
   "source": [
    "#Getting the name of the person \n",
    "'''\n",
    "PREFIX ntf:  <http://ontology.show-catalog.org/show#>\n",
    "PREFIX rdf:  <http://www.w3.org/1999/02/22-rdf-syntax-ns#>\n",
    "PREFIX rdfs: <http://www.w3.org/2000/01/rdf-schema#>\n",
    "PREFIX rr:   <http://www.w3.org/ns/r2rml#>\n",
    "\n",
    "SELECT DISTINCT ?person ?name\n",
    "WHERE {\n",
    "  ?person rdf:type ntf:Person ;\n",
    "          ntf:name ?name .\n",
    "}\n",
    "LIMIT 100\n",
    "'''"
   ]
  },
  {
   "cell_type": "code",
   "execution_count": null,
   "metadata": {},
   "outputs": [],
   "source": [
    "#Intermediary query to count the number of movie product in a certain country\n",
    "'''\n",
    "PREFIX ntf: <http://ontology.show-catalog.org/show#>\n",
    "PREFIX rdf: <http://www.w3.org/1999/02/22-rdf-syntax-ns#>\n",
    "\n",
    "SELECT ?countryName (COUNT(*) AS ?count)\n",
    "WHERE {\n",
    "  ?show rdf:type ntf:Movie ;\n",
    "        ntf:name ?name ;\n",
    "        ntf:producedIn ?country .\n",
    "  ?country ntf:name ?countryName .\n",
    "}\n",
    "GROUP BY ?countryName\n",
    "ORDER BY DESC(?count)\n",
    "'''"
   ]
  },
  {
   "cell_type": "code",
   "execution_count": null,
   "metadata": {},
   "outputs": [],
   "source": [
    "#More complex query \n",
    "\n",
    "'''\n",
    "PREFIX ntf: <http://ontology.show-catalog.org/show#>\n",
    "PREFIX rdf: <http://www.w3.org/1999/02/22-rdf-syntax-ns#>\n",
    "\n",
    "SELECT ?movie ?countryName ?person\n",
    "WHERE {\n",
    "  ?show rdf:type ntf:Movie;\n",
    "        ntf:name ?movie ;\n",
    "        ntf:producedIn ?country ;\n",
    "  \t\tntf:hasrating ?rate;\n",
    "  \t\tntf:releaseYear?year;\n",
    "  \t\tntf:hasasactor ?actor.\n",
    "  ?country ntf:name ?countryName FILTER (?countryName = 'United States' || ?countryName = 'India' )  .\n",
    "  ?rate  ntf:MPAFilmratingSystem ?rating FILTER (?rating = 'PG-13').\n",
    "  FILTER( ?year > 2010)\n",
    "  ?actor rdf:type            ntf:Person;\n",
    "         ntf:name?person.\n",
    "         FILTER regex(?person, \"o\", \"i\")\n",
    "}\n",
    "'''"
   ]
  }
 ],
 "metadata": {
  "kernelspec": {
   "display_name": "base",
   "language": "python",
   "name": "python3"
  },
  "language_info": {
   "codemirror_mode": {
    "name": "ipython",
    "version": 3
   },
   "file_extension": ".py",
   "mimetype": "text/x-python",
   "name": "python",
   "nbconvert_exporter": "python",
   "pygments_lexer": "ipython3",
   "version": "3.10.11"
  }
 },
 "nbformat": 4,
 "nbformat_minor": 2
}
